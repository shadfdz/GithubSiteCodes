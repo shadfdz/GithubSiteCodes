{
 "cells": [
  {
   "cell_type": "markdown",
   "id": "9f2b46d5-7d46-4226-bb80-4c4240ac6a91",
   "metadata": {},
   "source": [
    "## First Post! - TQDM\n",
    "\n",
    "Sweet, first post. I'll keep this super simple and short. \n",
    "\n",
    "\n",
    "Have you ever had to loop through a large list and you wonder how far along the iterator has progressed? There are definitely multiple ways to go about this but you might find the Python package, [TQDM](https://tqdm.github.io/), as a handy tool. `Tqdm` contains functions that show a progress bar during iteration.\n",
    "\n",
    "According to the developers, 'tqdm' means progress in Arabic or can be an abbreviation for 'I love you so much' in Spanish.\n"
   ]
  },
  {
   "cell_type": "markdown",
   "id": "64cbbfc8-6a8d-467f-bb8d-c19514661291",
   "metadata": {},
   "source": [
    "### Installation\n",
    "\n",
    "Seems like I need to upgrade pip. \n"
   ]
  },
  {
   "cell_type": "code",
   "execution_count": 31,
   "id": "b0d337c9-0442-4280-9482-d6bb7d82fdcd",
   "metadata": {},
   "outputs": [
    {
     "name": "stdout",
     "output_type": "stream",
     "text": [
      "Requirement already satisfied: tqdm in /Users/shadfernandez/anaconda3/lib/python3.8/site-packages (4.59.0)\n",
      "\u001b[33mWARNING: You are using pip version 21.3.1; however, version 22.1.2 is available.\n",
      "You should consider upgrading via the '/Users/shadfernandez/anaconda3/bin/python -m pip install --upgrade pip' command.\u001b[0m\n"
     ]
    }
   ],
   "source": [
    "!pip3 install tqdm"
   ]
  },
  {
   "cell_type": "markdown",
   "id": "34e1696e-4971-4320-a0b0-ea5c556ff9b3",
   "metadata": {},
   "source": [
    "### TQDM.NOTEBOOK\n",
    "\n",
    "Let's test out the `tqdm` package with selection sort. For this example, We will be importing tqdm for Ipython/Jupyter notebook. You can also use the non-notebook version but it's not as pretty on Jupyter notebook. We're going to utilize the `trange` function, which is similar to the `range` function but shows a progress bar. Let's also add a description to our progress bar. "
   ]
  },
  {
   "cell_type": "code",
   "execution_count": 1,
   "id": "d7ac8d85-f8f7-4d7b-8f3b-86a684dddd49",
   "metadata": {},
   "outputs": [
    {
     "data": {
      "application/vnd.jupyter.widget-view+json": {
       "model_id": "cfdfb8d4e398454a8c82e90afb0eb54f",
       "version_major": 2,
       "version_minor": 0
      },
      "text/plain": [
       "Sorting Progress:   0%|          | 0/10000 [00:00<?, ?it/s]"
      ]
     },
     "metadata": {},
     "output_type": "display_data"
    }
   ],
   "source": [
    "from tqdm.notebook import trange\n",
    "import random\n",
    "\n",
    "my_list = [i for i in range(10000)]\n",
    "random.shuffle(my_list)\n",
    "\n",
    "\n",
    "for i in trange(len(my_list), desc='Sorting Progress'):\n",
    "    min_index = i\n",
    "    for j in range(i + 1, len(my_list)):\n",
    "        if my_list[min_index] > my_list[j]:\n",
    "            min_index = j\n",
    "            \n",
    "    my_list[i], my_list[min_index] = my_list[min_index], my_list[i]\n"
   ]
  },
  {
   "cell_type": "markdown",
   "id": "fd7b7402-a129-4fe4-9598-a53660f0fbd5",
   "metadata": {},
   "source": [
    "So the selection sort took 4 seconds at 5331.49 iterations per second on average. While we saw the completed progress bar above, the progress bar indicated an estimated completion time while it was in progress. \n",
    "\n",
    "If we want to iterate through the elements of a list, we can go ahead and use the `tqdm` function instead like below. Since we are not in a hurry, we can use the `sleep` function from Pyhon's time module to pause every iteration for a designated amount of time."
   ]
  },
  {
   "cell_type": "code",
   "execution_count": 2,
   "id": "9ff9a671-c194-479a-80e1-86a5df40833a",
   "metadata": {},
   "outputs": [
    {
     "data": {
      "application/vnd.jupyter.widget-view+json": {
       "model_id": "122c0c0417d74492a2e6d17e7b1f6e54",
       "version_major": 2,
       "version_minor": 0
      },
      "text/plain": [
       "  0%|          | 0/3 [00:00<?, ?it/s]"
      ]
     },
     "metadata": {},
     "output_type": "display_data"
    },
    {
     "name": "stdout",
     "output_type": "stream",
     "text": [
      "a\n",
      "b\n",
      "c\n"
     ]
    }
   ],
   "source": [
    "from tqdm.notebook import tqdm\n",
    "from time import sleep\n",
    "\n",
    "letter_list = ['a','b','c']\n",
    "\n",
    "for letter in tqdm(letter_list):\n",
    "    print(letter)\n",
    "    sleep(1)"
   ]
  },
  {
   "cell_type": "markdown",
   "id": "66bd26e3-b6fd-4dd1-a41f-69c550ec848b",
   "metadata": {},
   "source": [
    "As we can see, the iteration rought took 3 seconds with 1 iteration per second. \n",
    "\n",
    "This is super basic but hopefully it helps! There are a handful of paramters available also such as customizing the progress bar text. Please check out [TQDM](https://tqdm.github.io/)'s documentation page for more information. Thanks!"
   ]
  }
 ],
 "metadata": {
  "kernelspec": {
   "display_name": "Python 3",
   "language": "python",
   "name": "python3"
  },
  "language_info": {
   "codemirror_mode": {
    "name": "ipython",
    "version": 3
   },
   "file_extension": ".py",
   "mimetype": "text/x-python",
   "name": "python",
   "nbconvert_exporter": "python",
   "pygments_lexer": "ipython3",
   "version": "3.8.8"
  }
 },
 "nbformat": 4,
 "nbformat_minor": 5
}
